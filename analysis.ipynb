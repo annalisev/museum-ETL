{
 "cells": [
  {
   "cell_type": "markdown",
   "metadata": {},
   "source": [
    "# Museum Analysis\n",
    "\n",
    "This notebook connects to the museum database and conducts simple analysis of the data.\n",
    "\n",
    "## Imports"
   ]
  },
  {
   "cell_type": "code",
   "execution_count": 1,
   "metadata": {},
   "outputs": [],
   "source": [
    "from dotenv import load_dotenv\n",
    "\n",
    "from consumer import get_db_connection"
   ]
  },
  {
   "cell_type": "markdown",
   "metadata": {},
   "source": [
    "## Setup"
   ]
  },
  {
   "cell_type": "code",
   "execution_count": 2,
   "metadata": {},
   "outputs": [
    {
     "data": {
      "text/plain": [
       "True"
      ]
     },
     "execution_count": 2,
     "metadata": {},
     "output_type": "execute_result"
    }
   ],
   "source": [
    "load_dotenv()\n"
   ]
  },
  {
   "cell_type": "markdown",
   "metadata": {},
   "source": [
    "### 1. What exhibition is most frequently visited?"
   ]
  },
  {
   "cell_type": "code",
   "execution_count": 3,
   "metadata": {},
   "outputs": [
    {
     "name": "stdout",
     "output_type": "stream",
     "text": [
      "The \"Our Polluted World\" exhibition was most frequently visited, with 481 ratings.\n"
     ]
    }
   ],
   "source": [
    "conn = get_db_connection()\n",
    "with conn.cursor() as curr:\n",
    "    curr.execute('''SELECT exhibition_id, COUNT(exhibition_id) FROM rating\n",
    "                 GROUP BY exhibition_id\n",
    "                 ORDER BY count DESC;''')\n",
    "    rows = curr.fetchone()\n",
    "    id = rows['exhibition_id']\n",
    "    count = rows['count']\n",
    "\n",
    "with conn.cursor() as curr:\n",
    "    curr.execute('''SELECT exhibition_id, exhibition_name FROM exhibition\n",
    "                 WHERE exhibition_id = %s;''', (id ,))\n",
    "    data = curr.fetchone()\n",
    "    name = data['exhibition_name']\n",
    "\n",
    "print(f'The \"{name}\" exhibition was most frequently visited, with {count} ratings.')"
   ]
  },
  {
   "cell_type": "markdown",
   "metadata": {},
   "source": [
    "### 2. What hour of the day has the most ratings?"
   ]
  },
  {
   "cell_type": "code",
   "execution_count": 4,
   "metadata": {},
   "outputs": [
    {
     "name": "stdout",
     "output_type": "stream",
     "text": [
      "The hour starting at 10:00 has the most ratings, 232 ratings.\n"
     ]
    }
   ],
   "source": [
    "conn = get_db_connection()\n",
    "with conn.cursor() as curr:\n",
    "    curr.execute('''SELECT COUNT(rating_id), EXTRACT(hour from time_given) FROM rating\n",
    "                 GROUP BY EXTRACT(hour from time_given)\n",
    "                 ORDER BY COUNT(rating_id) DESC\n",
    "                 ;''')\n",
    "    data = curr.fetchall()[0]\n",
    "    print(f'The hour starting at {data[\"extract\"]}:00 has the most ratings, {data[\"count\"]} ratings.')"
   ]
  },
  {
   "cell_type": "markdown",
   "metadata": {},
   "source": [
    "### 3. What is the average rating for each exhibition?"
   ]
  },
  {
   "cell_type": "code",
   "execution_count": 5,
   "metadata": {},
   "outputs": [
    {
     "name": "stdout",
     "output_type": "stream",
     "text": [
      "The \"The Crenshaw Collection\" exhibition was rated 2.43 on average.\n",
      "The \"Adaptation\" exhibition was rated 2.93 on average.\n",
      "The \"Our Polluted World\" exhibition was rated 2.22 on average.\n",
      "The \"Measureless to Man\" exhibition was rated 2.92 on average.\n",
      "The \"Cetacean Sensations\" exhibition was rated 3.83 on average.\n",
      "\n",
      "Any exhibitions not mentioned in this list, have not received any ratings.\n"
     ]
    }
   ],
   "source": [
    "conn = get_db_connection()\n",
    "with conn.cursor() as curr:\n",
    "    curr.execute('''SELECT rating.exhibition_id, exhibition.exhibition_name, ROUND(AVG(rating.rating_value_id),2) FROM rating\n",
    "                 JOIN exhibition\n",
    "                 ON exhibition.exhibition_id = rating.exhibition_id\n",
    "                 GROUP BY exhibition.exhibition_name,rating.exhibition_id;''')\n",
    "    rows = curr.fetchall()\n",
    "    for row in rows:\n",
    "        print(f'The \"{row[\"exhibition_name\"]}\" exhibition was rated {row[\"round\"]} on average.')\n",
    "    print('\\nAny exhibitions not mentioned in this list, have not received any ratings.')\n",
    "\n",
    "\n"
   ]
  },
  {
   "cell_type": "markdown",
   "metadata": {},
   "source": [
    "### 4. What proportion of all 4+ ratings are given to exhibition 4?"
   ]
  },
  {
   "cell_type": "code",
   "execution_count": 6,
   "metadata": {},
   "outputs": [
    {
     "name": "stdout",
     "output_type": "stream",
     "text": [
      "37 ratings of 4+ were given to Exhibition 4 out of 287 total 4+ ratings.\n",
      "This is 12.9%\n"
     ]
    }
   ],
   "source": [
    "conn = get_db_connection()\n",
    "with conn.cursor() as curr:\n",
    "    curr.execute('''SELECT COUNT(rating_id) FROM rating\n",
    "                 WHERE rating_value_id >= 5;''')\n",
    "    total_four_plus = curr.fetchone()['count']\n",
    "    \n",
    "with conn.cursor() as curr:\n",
    "    curr.execute('''SELECT COUNT(rating_id) FROM rating\n",
    "                 WHERE rating_value_id >= 5\n",
    "                 AND exhibition_id = 5;''')\n",
    "    exhibition_four = curr.fetchone()['count']\n",
    "\n",
    "print(f'{exhibition_four} ratings of 4+ were given to Exhibition 4 out of {total_four_plus} total 4+ ratings.')\n",
    "print(f'This is {round(exhibition_four/total_four_plus*100, 1)}%')"
   ]
  },
  {
   "cell_type": "markdown",
   "metadata": {},
   "source": [
    "### 5. Are positive ratings more frequent before or after 1pm?"
   ]
  },
  {
   "cell_type": "code",
   "execution_count": 7,
   "metadata": {},
   "outputs": [
    {
     "name": "stdout",
     "output_type": "stream",
     "text": [
      "There are 313 positive ratings given before 1pm, and 344 positive ratings given after 1pm.\n",
      "So positive ratings are more frequent after 1pm.\n"
     ]
    }
   ],
   "source": [
    "conn = get_db_connection()\n",
    "with conn.cursor() as curr:\n",
    "    curr.execute('''SELECT COUNT(rating_id) FROM rating\n",
    "                 WHERE rating_value_id >= 4\n",
    "                 AND EXTRACT(hour from time_given) <13\n",
    "                 ;''')\n",
    "    before_one = curr.fetchone()[\"count\"]\n",
    "\n",
    "\n",
    "with conn.cursor() as curr:\n",
    "    curr.execute('''SELECT COUNT(rating_id) FROM rating\n",
    "                 WHERE rating_value_id >= 4\n",
    "                 AND EXTRACT(hour from time_given) >= 13\n",
    "                 ;''')\n",
    "    after_one = curr.fetchone()['count']\n",
    "\n",
    "print(f'There are {before_one} positive ratings given before 1pm, and {after_one} positive ratings given after 1pm.')\n",
    "print(f'So positive ratings are more frequent {\"before\" if before_one>after_one else \"after\"} 1pm.')"
   ]
  },
  {
   "cell_type": "markdown",
   "metadata": {},
   "source": [
    "### 6. How many ratings each hour are above the average rating for exhibition 4?"
   ]
  },
  {
   "cell_type": "code",
   "execution_count": 8,
   "metadata": {},
   "outputs": [
    {
     "name": "stdout",
     "output_type": "stream",
     "text": [
      "The average rating for Exhibition 4 is 2.22.\n",
      "\n",
      "The hour starting at 14:00 had 17 rating(s) above 2.22.\n",
      "The hour starting at 18:00 had 5 rating(s) above 2.22.\n",
      "The hour starting at 9:00 had 17 rating(s) above 2.22.\n",
      "The hour starting at 13:00 had 20 rating(s) above 2.22.\n",
      "The hour starting at 16:00 had 19 rating(s) above 2.22.\n",
      "The hour starting at 10:00 had 21 rating(s) above 2.22.\n",
      "The hour starting at 8:00 had 15 rating(s) above 2.22.\n",
      "The hour starting at 17:00 had 16 rating(s) above 2.22.\n",
      "The hour starting at 11:00 had 12 rating(s) above 2.22.\n",
      "The hour starting at 15:00 had 17 rating(s) above 2.22.\n",
      "The hour starting at 12:00 had 14 rating(s) above 2.22.\n"
     ]
    }
   ],
   "source": [
    "conn = get_db_connection()\n",
    "with conn.cursor() as curr:\n",
    "    curr.execute('''SELECT AVG(rating_value_id) from rating\n",
    "                 WHERE exhibition_id = 5\n",
    "                 ;''')\n",
    "    avg = curr.fetchone()[\"avg\"]\n",
    "    print(f'The average rating for Exhibition 4 is {round(avg, 2)}.\\n')\n",
    "\n",
    "with conn.cursor() as curr:\n",
    "    curr.execute('''SELECT COUNT(rating_id), EXTRACT(hour from time_given) FROM rating\n",
    "                 WHERE exhibition_id = 5\n",
    "                 AND rating_value_id > %s\n",
    "                 GROUP BY EXTRACT(hour from time_given)\n",
    "                 ;''', (avg,))\n",
    "    data = curr.fetchall()\n",
    "    for row in data:\n",
    "        print(f'The hour starting at {row[\"extract\"]}:00 had {row[\"count\"]} rating(s) above {round(avg, 2)}.')\n"
   ]
  },
  {
   "cell_type": "markdown",
   "metadata": {},
   "source": [
    "### 7. Do Zoology exhibitions get better ratings than other types?"
   ]
  },
  {
   "cell_type": "code",
   "execution_count": 9,
   "metadata": {},
   "outputs": [
    {
     "name": "stdout",
     "output_type": "stream",
     "text": [
      "The Entomology Department has an average rating of 2.93.\n",
      "The Geology Department has an average rating of 2.92.\n",
      "The Ecology Department has an average rating of 2.22.\n",
      "The Zoology Department has an average rating of 3.20.\n",
      "\n",
      "So the Zoology Department does have better ratings than the other departments.\n"
     ]
    }
   ],
   "source": [
    "conn = get_db_connection()\n",
    "with conn.cursor() as curr:\n",
    "    curr.execute('''SELECT department.department_name, ROUND(AVG(rating.rating_value_id),2) FROM rating\n",
    "                 JOIN exhibition\n",
    "                 ON exhibition.exhibition_id = rating.exhibition_id\n",
    "                 JOIN department \n",
    "                 ON department.department_id = exhibition.department_id\n",
    "                 GROUP BY exhibition.department_id, department.department_name;''')\n",
    "    rows = curr.fetchall()\n",
    "    for row in rows:\n",
    "        print(f'The {row[\"department_name\"]} Department has an average rating of {row[\"round\"]}.')\n",
    "    print('\\nSo the Zoology Department does have better ratings than the other departments.')"
   ]
  },
  {
   "cell_type": "markdown",
   "metadata": {},
   "source": [
    "### 8. What exhibition has the most emergencies?"
   ]
  },
  {
   "cell_type": "code",
   "execution_count": 10,
   "metadata": {},
   "outputs": [
    {
     "name": "stdout",
     "output_type": "stream",
     "text": [
      "The \"The Crenshaw Collection\" Exhibition had the most emergencies, 2 emergencies.\n"
     ]
    }
   ],
   "source": [
    "conn = get_db_connection()\n",
    "with conn.cursor() as curr:\n",
    "    curr.execute(\n",
    "        '''SELECT exhibition.exhibition_name, COUNT(action.action_id) FROM action\n",
    "        JOIN exhibition\n",
    "        ON action.exhibition_id = exhibition.exhibition_id\n",
    "        WHERE action_type_id = 2\n",
    "        GROUP BY exhibition.exhibition_name\n",
    "        ORDER BY COUNT(action.action_id) DESC\n",
    "        ;''')\n",
    "    data = curr.fetchone()\n",
    "    print(f'The \"{data[\"exhibition_name\"]}\" Exhibition had the most emergencies, {data[\"count\"]} emergencies.')"
   ]
  },
  {
   "cell_type": "markdown",
   "metadata": {},
   "source": [
    "### 9. Which exhibitions receive fewer assistance requests than the average?"
   ]
  },
  {
   "cell_type": "code",
   "execution_count": 11,
   "metadata": {},
   "outputs": [
    {
     "name": "stdout",
     "output_type": "stream",
     "text": [
      "There are 6 exhibitions.\n",
      "There were 71 assistance requests, meaning the average per exhibition is 11.8.\n",
      "So the Exhibitions with less than this are as follows:\n",
      "\n",
      "The \"Our Polluted World\" Exhibition had 11 assisstance requests.\n",
      "The \"Adaptation\" Exhibition had 10 assisstance requests.\n",
      "The \"Measureless to Man\" Exhibition had 9 assisstance requests.\n"
     ]
    }
   ],
   "source": [
    "conn = get_db_connection()\n",
    "with conn.cursor() as curr:\n",
    "    curr.execute(\n",
    "        '''SELECT COUNT(exhibition_id) from exhibition;''')\n",
    "    exhibitions = curr.fetchone()[\"count\"]\n",
    "    print(\n",
    "        f'There are {exhibitions} exhibitions.')\n",
    "    \n",
    "with conn.cursor() as curr:\n",
    "    curr.execute(\n",
    "        '''SELECT COUNT(action.action_id) FROM action\n",
    "        WHERE action_type_id = 1\n",
    "        ;''')\n",
    "    assistance = curr.fetchone()[\"count\"]\n",
    "avg = assistance/exhibitions\n",
    "print(f'There were {assistance} assistance requests, meaning the average per exhibition is {round(avg,1)}.')\n",
    "print('So the Exhibitions with less than this are as follows:\\n')\n",
    "\n",
    "with conn.cursor() as curr:\n",
    "    curr.execute(\n",
    "        '''SELECT exhibition.exhibition_name, COUNT(action.action_id) FROM action\n",
    "        JOIN exhibition\n",
    "        ON action.exhibition_id = exhibition.exhibition_id\n",
    "        WHERE action_type_id = 1\n",
    "        GROUP BY exhibition.exhibition_name\n",
    "        HAVING (COUNT(action.action_id))< %s\n",
    "        ORDER BY COUNT(action.action_id) DESC\n",
    "        ;''', (avg,))\n",
    "    data = curr.fetchall()\n",
    "    for row in data:\n",
    "        print(\n",
    "            f'The \"{row[\"exhibition_name\"]}\" Exhibition had {row[\"count\"]} assisstance requests.')"
   ]
  },
  {
   "cell_type": "markdown",
   "metadata": {},
   "source": [
    "### 10. Are there particular times when assistance requests/emergencies are more likely?"
   ]
  },
  {
   "cell_type": "code",
   "execution_count": 12,
   "metadata": {},
   "outputs": [
    {
     "name": "stdout",
     "output_type": "stream",
     "text": [
      "The top three times for assistance requests/emergencies are:\n",
      "The hour of 14:00, when there were 11.\n",
      "The hour of 16:00, when there were 9.\n",
      "The hour of 10:00, when there were 8.\n"
     ]
    }
   ],
   "source": [
    "conn = get_db_connection()\n",
    "with conn.cursor() as curr:\n",
    "    curr.execute(\n",
    "        '''SELECT COUNT(action.action_id), EXTRACT(hour from time_occurred) FROM action\n",
    "        GROUP BY EXTRACT(hour from time_occurred)\n",
    "        ORDER BY COUNT(action.action_id) DESC\n",
    "        ;''')\n",
    "    data = curr.fetchall()[:3]\n",
    "    print('The top three times for assistance requests/emergencies are:')\n",
    "    for row in data:\n",
    "        print(f'The hour of {row[\"extract\"]}:00, when there were {row[\"count\"]}.')\n",
    "    "
   ]
  },
  {
   "cell_type": "markdown",
   "metadata": {},
   "source": [
    "### 11. Are emergencies more likely in exhibitions that are more exciting than others?\n",
    "\n",
    "With the current dataset I would suggest we do not have enough data to draw a conclusion about this question.  \n",
    "_For now accept the null hypothesis._"
   ]
  },
  {
   "cell_type": "code",
   "execution_count": 13,
   "metadata": {},
   "outputs": [
    {
     "name": "stdout",
     "output_type": "stream",
     "text": [
      "The \"Cetacean Sensations\" exhibition was rated 3.83 on average.\n",
      "The \"Adaptation\" exhibition was rated 2.93 on average.\n",
      "The \"Measureless to Man\" exhibition was rated 2.92 on average.\n",
      "The \"The Crenshaw Collection\" exhibition was rated 2.43 on average.\n",
      "The \"Our Polluted World\" exhibition was rated 2.22 on average.\n",
      "\n",
      "\n",
      "The \"The Crenshaw Collection\" Exhibition had 2 emergencies.\n"
     ]
    }
   ],
   "source": [
    "conn = get_db_connection()\n",
    "with conn.cursor() as curr:\n",
    "    curr.execute('''SELECT rating.exhibition_id, exhibition.exhibition_name, ROUND(AVG(rating.rating_value_id),2) FROM rating\n",
    "                 JOIN exhibition\n",
    "                 ON exhibition.exhibition_id = rating.exhibition_id\n",
    "                 GROUP BY exhibition.exhibition_name,rating.exhibition_id\n",
    "                 ORDER BY AVG(rating.rating_value_id) DESC;''')\n",
    "    rows = curr.fetchall()\n",
    "    for row in rows:\n",
    "        print(\n",
    "            f'The \"{row[\"exhibition_name\"]}\" exhibition was rated {row[\"round\"]} on average.')\n",
    "        \n",
    "print('\\n')\n",
    "with conn.cursor() as curr:\n",
    "    curr.execute(\n",
    "        '''SELECT exhibition.exhibition_name, COUNT(action.action_id) FROM action\n",
    "        JOIN exhibition\n",
    "        ON action.exhibition_id = exhibition.exhibition_id\n",
    "        WHERE action_type_id = 2\n",
    "        GROUP BY exhibition.exhibition_name\n",
    "        ORDER BY COUNT(action.action_id) DESC\n",
    "        ;''')\n",
    "    data = curr.fetchall()\n",
    "    for row in data:\n",
    "        print(\n",
    "        f'The \"{row[\"exhibition_name\"]}\" Exhibition had {row[\"count\"]} emergencies.')"
   ]
  },
  {
   "cell_type": "markdown",
   "metadata": {},
   "source": [
    "### 12. Which floors are above average for ratings?"
   ]
  },
  {
   "cell_type": "code",
   "execution_count": 14,
   "metadata": {},
   "outputs": [
    {
     "name": "stdout",
     "output_type": "stream",
     "text": [
      "The average rating across all exhibitions is 2.87.\n",
      "Floors with a higher rating than this are as follows:\n",
      "\n",
      "Floor 1, with an average rating of 3.47.\n",
      "Vault, with an average rating of 2.93.\n"
     ]
    }
   ],
   "source": [
    "conn = get_db_connection()\n",
    "with conn.cursor() as curr:\n",
    "    curr.execute('''SELECT ROUND(AVG(rating_value_id),2) FROM rating;''')\n",
    "    avg = curr.fetchone()[\"round\"]\n",
    "print(f'The average rating across all exhibitions is {avg}.')\n",
    "print('Floors with a higher rating than this are as follows:\\n')\n",
    "\n",
    "with conn.cursor() as curr:\n",
    "    curr.execute('''SELECT floor.floor_name, ROUND(AVG(rating.rating_value_id),2) FROM rating\n",
    "                 JOIN exhibition\n",
    "                 ON exhibition.exhibition_id = rating.exhibition_id\n",
    "                 JOIN floor\n",
    "                 ON exhibition.floor_id = floor.floor_id\n",
    "                 GROUP BY floor.floor_id\n",
    "                 HAVING AVG(rating.rating_value_id) > %s\n",
    "                 ORDER BY AVG(rating.rating_value_id) DESC;''', (avg,))\n",
    "    rows = curr.fetchall()\n",
    "    for row in rows:\n",
    "        print(f'{row[\"floor_name\"]}, with an average rating of {row[\"round\"]}.')"
   ]
  }
 ],
 "metadata": {
  "kernelspec": {
   "display_name": "venv",
   "language": "python",
   "name": "python3"
  },
  "language_info": {
   "codemirror_mode": {
    "name": "ipython",
    "version": 3
   },
   "file_extension": ".py",
   "mimetype": "text/x-python",
   "name": "python",
   "nbconvert_exporter": "python",
   "pygments_lexer": "ipython3",
   "version": "3.11.7"
  }
 },
 "nbformat": 4,
 "nbformat_minor": 2
}
